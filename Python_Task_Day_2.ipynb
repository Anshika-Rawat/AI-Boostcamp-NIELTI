{
  "nbformat": 4,
  "nbformat_minor": 0,
  "metadata": {
    "colab": {
      "provenance": [],
      "authorship_tag": "ABX9TyNYJ5gS7anmJHARqlzA+GPK",
      "include_colab_link": true
    },
    "kernelspec": {
      "name": "python3",
      "display_name": "Python 3"
    },
    "language_info": {
      "name": "python"
    }
  },
  "cells": [
    {
      "cell_type": "markdown",
      "metadata": {
        "id": "view-in-github",
        "colab_type": "text"
      },
      "source": [
        "<a href=\"https://colab.research.google.com/github/Anshika-Rawat/AI-Boostcamp-NIELTI/blob/main/Python_Task_Day_2.ipynb\" target=\"_parent\"><img src=\"https://colab.research.google.com/assets/colab-badge.svg\" alt=\"Open In Colab\"/></a>"
      ]
    },
    {
      "cell_type": "code",
      "execution_count": null,
      "metadata": {
        "colab": {
          "base_uri": "https://localhost:8080/"
        },
        "id": "8p3RVPbfRHMy",
        "outputId": "76ac6043-f218-4e79-b956-2e1bea65414a"
      },
      "outputs": [
        {
          "output_type": "stream",
          "name": "stdout",
          "text": [
            "Hello World\n"
          ]
        }
      ],
      "source": [
        "print(\"Hello World\")"
      ]
    },
    {
      "cell_type": "code",
      "source": [
        "print(\"My Name is Anshika Rawat.\")"
      ],
      "metadata": {
        "colab": {
          "base_uri": "https://localhost:8080/"
        },
        "id": "5BVE2L4sS78K",
        "outputId": "e0dc0b46-6197-41ef-adf5-3272ec9ebfca"
      },
      "execution_count": null,
      "outputs": [
        {
          "output_type": "stream",
          "name": "stdout",
          "text": [
            "My Name is Anshika Rawat.\n"
          ]
        }
      ]
    },
    {
      "cell_type": "code",
      "source": [
        "a = 58\n",
        "b = 68\n",
        "c = a+b\n",
        "print(c)"
      ],
      "metadata": {
        "colab": {
          "base_uri": "https://localhost:8080/"
        },
        "id": "ho6PmfICTKcr",
        "outputId": "3ae31fd8-c219-4c3b-8a91-a4b4c50ecc31"
      },
      "execution_count": null,
      "outputs": [
        {
          "output_type": "stream",
          "name": "stdout",
          "text": [
            "126\n"
          ]
        }
      ]
    },
    {
      "cell_type": "code",
      "source": [
        "a = 89\n",
        "b = 46\n",
        "print(\"The sum of a and b is \", a+b)"
      ],
      "metadata": {
        "colab": {
          "base_uri": "https://localhost:8080/"
        },
        "id": "V_sZWVHWVPgg",
        "outputId": "02223cfe-d07b-438c-9f26-50b208f4a1e7"
      },
      "execution_count": null,
      "outputs": [
        {
          "output_type": "stream",
          "name": "stdout",
          "text": [
            "The sum of a and b is  135\n"
          ]
        }
      ]
    },
    {
      "cell_type": "code",
      "source": [
        "a= 7\n",
        "b = 8\n",
        "print(\"The product of a and b is :\", a*b)"
      ],
      "metadata": {
        "id": "328rC5MDWFaZ",
        "colab": {
          "base_uri": "https://localhost:8080/"
        },
        "outputId": "812e7cc6-380c-4cae-bcc9-b368853453cd"
      },
      "execution_count": 1,
      "outputs": [
        {
          "output_type": "stream",
          "name": "stdout",
          "text": [
            "The product of a and b is : 56\n"
          ]
        }
      ]
    }
  ]
}